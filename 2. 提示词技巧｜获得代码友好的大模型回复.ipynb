{
 "cells": [
  {
   "cell_type": "markdown",
   "id": "fa3cbfcf",
   "metadata": {},
   "source": [
    "# 回顾"
   ]
  },
  {
   "cell_type": "code",
   "execution_count": 1,
   "id": "4e919339-6130-46bd-95cf-1d4110f002a5",
   "metadata": {},
   "outputs": [],
   "source": [
    "model=\"gpt-35-turbo\"\n",
    "import os\n",
    "openai_api_base = os.environ[\"OPENAI_API_BASE_URL\"];"
   ]
  },
  {
   "cell_type": "code",
   "execution_count": 2,
   "id": "9b401b67-e25e-489e-b94a-56c88125402e",
   "metadata": {},
   "outputs": [],
   "source": [
    "from openai import OpenAI\n",
    "import os\n",
    "client = OpenAI(\n",
    "    base_url = openai_api_base\n",
    ")"
   ]
  },
  {
   "cell_type": "code",
   "execution_count": 3,
   "id": "99c60769",
   "metadata": {},
   "outputs": [],
   "source": [
    "def translate(text):\n",
    "    messages = []\n",
    "    messages.append( {\"role\": \"system\", \n",
    "                      \"content\": \"You are a translator. Please, translate the user's request to English.\"})\n",
    "    messages.append( {\"role\": \"user\", \"content\": text})\n",
    "    response = client.chat.completions.create(\n",
    "        model=model,\n",
    "        messages=messages,\n",
    "        temperature=0.5,\n",
    "        max_tokens = 100\n",
    "    )\n",
    "    print(response)\n",
    "    return response.choices[0].message.content"
   ]
  },
  {
   "cell_type": "code",
   "execution_count": 5,
   "id": "e2c83b7f",
   "metadata": {},
   "outputs": [
    {
     "name": "stdout",
     "output_type": "stream",
     "text": [
      "<Encoding 'cl100k_base'>\n",
      "ChatCompletion(id='chatcmpl-8L6U7gju6GaAzXCr3gc4QV56OzAIf', choices=[Choice(finish_reason='stop', index=0, message=ChatCompletionMessage(content='\"In the future, before it arrives, someone has to create it, and that person should be us.\"', role='assistant', function_call=None, tool_calls=None))], created=1700040507, model='gpt-35-turbo-16k', object='chat.completion', system_fingerprint=None, usage=CompletionUsage(completion_tokens=21, prompt_tokens=91, total_tokens=112))\n",
      "chinese:在未来还没有到来的时候，总要有人把它创造出来，那个人应该是我们。 ; 35 tokens\n",
      "\n",
      "english:\"In the future, before it arrives, someone has to create it, and that person should be us.\" ; 21 tokens\n",
      "\n"
     ]
    }
   ],
   "source": [
    "import openai\n",
    "import tiktoken\n",
    "\n",
    "encoding = tiktoken.encoding_for_model(\"gpt-4\")\n",
    "\n",
    "print(encoding)\n",
    "\n",
    "chinese = \"\"\"在未来还没有到来的时候，总要有人把它创造出来，那个人应该是我们。\"\"\"\n",
    "english = translate(chinese)\n",
    "\n",
    "num_of_tokens_in_chinese = len(encoding.encode(chinese))\n",
    "num_of_tokens_in_english = len(encoding.encode(english))\n",
    "\n",
    "print(f\"chinese:{chinese} ; {num_of_tokens_in_chinese} tokens\\n\")\n",
    "print(f\"english:{english} ; {num_of_tokens_in_english} tokens\\n\")"
   ]
  },
  {
   "cell_type": "markdown",
   "id": "9daae292",
   "metadata": {},
   "source": [
    "# 常见应用场景"
   ]
  },
  {
   "cell_type": "markdown",
   "id": "6f8773d0",
   "metadata": {},
   "source": [
    "## 意图识别"
   ]
  },
  {
   "cell_type": "code",
   "execution_count": 11,
   "id": "f0713ebf",
   "metadata": {},
   "outputs": [
    {
     "name": "stdout",
     "output_type": "stream",
     "text": [
      "Intent: Set Reminder\n"
     ]
    }
   ],
   "source": [
    "import openai\n",
    "response = client.chat.completions.create(\n",
    "    model=model,\n",
    "    temperature = 0,\n",
    "    messages=[\n",
    "        {\"role\": \"system\", \"content\": \"\"\"\n",
    "          Recognize the intent from the user's input \n",
    "         \"\"\"},\n",
    "        #{\"role\": \"user\", \"content\": \"订明天早5点北京到上海的飞机\"}\n",
    "        {\"role\": \"user\", \"content\": \"提醒我明早8点有会议\"}\n",
    "    ]\n",
    "  )\n",
    "print(response.choices[0].message.content)"
   ]
  },
  {
   "cell_type": "markdown",
   "id": "786389c2",
   "metadata": {},
   "source": [
    "## 生成SQL"
   ]
  },
  {
   "cell_type": "code",
   "execution_count": 14,
   "id": "e0237019-6b76-45e1-bcd7-4143980e51de",
   "metadata": {},
   "outputs": [
    {
     "name": "stdout",
     "output_type": "stream",
     "text": [
      "Defaulting to user installation because normal site-packages is not writeable\n",
      "Looking in indexes: https://mirrors.aliyun.com/pypi/simple/\n",
      "Requirement already satisfied: langchain in /Users/wjx/Library/Python/3.9/lib/python/site-packages (0.0.335)\n",
      "Requirement already satisfied: aiohttp<4.0.0,>=3.8.3 in /Users/wjx/Library/Python/3.9/lib/python/site-packages (from langchain) (3.8.6)\n",
      "Requirement already satisfied: dataclasses-json<0.7,>=0.5.7 in /Users/wjx/Library/Python/3.9/lib/python/site-packages (from langchain) (0.6.2)\n",
      "Requirement already satisfied: pydantic<3,>=1 in /Users/wjx/Library/Python/3.9/lib/python/site-packages (from langchain) (2.5.0)\n",
      "Requirement already satisfied: SQLAlchemy<3,>=1.4 in /Users/wjx/Library/Python/3.9/lib/python/site-packages (from langchain) (2.0.23)\n",
      "Requirement already satisfied: PyYAML>=5.3 in /Users/wjx/Library/Python/3.9/lib/python/site-packages (from langchain) (6.0.1)\n",
      "Requirement already satisfied: tenacity<9.0.0,>=8.1.0 in /Users/wjx/Library/Python/3.9/lib/python/site-packages (from langchain) (8.2.3)\n",
      "Requirement already satisfied: anyio<4.0 in /Users/wjx/Library/Python/3.9/lib/python/site-packages (from langchain) (3.7.1)\n",
      "Requirement already satisfied: jsonpatch<2.0,>=1.33 in /Users/wjx/Library/Python/3.9/lib/python/site-packages (from langchain) (1.33)\n",
      "Requirement already satisfied: async-timeout<5.0.0,>=4.0.0 in /Users/wjx/Library/Python/3.9/lib/python/site-packages (from langchain) (4.0.3)\n",
      "Requirement already satisfied: requests<3,>=2 in /Users/wjx/Library/Python/3.9/lib/python/site-packages (from langchain) (2.31.0)\n",
      "Requirement already satisfied: langsmith<0.1.0,>=0.0.63 in /Users/wjx/Library/Python/3.9/lib/python/site-packages (from langchain) (0.0.64)\n",
      "Requirement already satisfied: numpy<2,>=1 in /Users/wjx/Library/Python/3.9/lib/python/site-packages (from langchain) (1.26.2)\n",
      "Requirement already satisfied: frozenlist>=1.1.1 in /Users/wjx/Library/Python/3.9/lib/python/site-packages (from aiohttp<4.0.0,>=3.8.3->langchain) (1.4.0)\n",
      "Requirement already satisfied: attrs>=17.3.0 in /Users/wjx/Library/Python/3.9/lib/python/site-packages (from aiohttp<4.0.0,>=3.8.3->langchain) (23.1.0)\n",
      "Requirement already satisfied: charset-normalizer<4.0,>=2.0 in /Users/wjx/Library/Python/3.9/lib/python/site-packages (from aiohttp<4.0.0,>=3.8.3->langchain) (3.3.2)\n",
      "Requirement already satisfied: aiosignal>=1.1.2 in /Users/wjx/Library/Python/3.9/lib/python/site-packages (from aiohttp<4.0.0,>=3.8.3->langchain) (1.3.1)\n",
      "Requirement already satisfied: yarl<2.0,>=1.0 in /Users/wjx/Library/Python/3.9/lib/python/site-packages (from aiohttp<4.0.0,>=3.8.3->langchain) (1.9.2)\n",
      "Requirement already satisfied: multidict<7.0,>=4.5 in /Users/wjx/Library/Python/3.9/lib/python/site-packages (from aiohttp<4.0.0,>=3.8.3->langchain) (6.0.4)\n",
      "Requirement already satisfied: idna>=2.8 in /Users/wjx/Library/Python/3.9/lib/python/site-packages (from anyio<4.0->langchain) (3.4)\n",
      "Requirement already satisfied: sniffio>=1.1 in /Users/wjx/Library/Python/3.9/lib/python/site-packages (from anyio<4.0->langchain) (1.3.0)\n",
      "Requirement already satisfied: exceptiongroup in /Users/wjx/Library/Python/3.9/lib/python/site-packages (from anyio<4.0->langchain) (1.1.3)\n",
      "Requirement already satisfied: typing-inspect<1,>=0.4.0 in /Users/wjx/Library/Python/3.9/lib/python/site-packages (from dataclasses-json<0.7,>=0.5.7->langchain) (0.9.0)\n",
      "Requirement already satisfied: marshmallow<4.0.0,>=3.18.0 in /Users/wjx/Library/Python/3.9/lib/python/site-packages (from dataclasses-json<0.7,>=0.5.7->langchain) (3.20.1)\n",
      "Requirement already satisfied: jsonpointer>=1.9 in /Users/wjx/Library/Python/3.9/lib/python/site-packages (from jsonpatch<2.0,>=1.33->langchain) (2.4)\n",
      "Requirement already satisfied: packaging>=17.0 in /Users/wjx/Library/Python/3.9/lib/python/site-packages (from marshmallow<4.0.0,>=3.18.0->dataclasses-json<0.7,>=0.5.7->langchain) (23.2)\n",
      "Requirement already satisfied: typing-extensions>=4.6.1 in /Users/wjx/Library/Python/3.9/lib/python/site-packages (from pydantic<3,>=1->langchain) (4.8.0)\n",
      "Requirement already satisfied: pydantic-core==2.14.1 in /Users/wjx/Library/Python/3.9/lib/python/site-packages (from pydantic<3,>=1->langchain) (2.14.1)\n",
      "Requirement already satisfied: annotated-types>=0.4.0 in /Users/wjx/Library/Python/3.9/lib/python/site-packages (from pydantic<3,>=1->langchain) (0.6.0)\n",
      "Requirement already satisfied: certifi>=2017.4.17 in /Users/wjx/Library/Python/3.9/lib/python/site-packages (from requests<3,>=2->langchain) (2023.7.22)\n",
      "Requirement already satisfied: urllib3<3,>=1.21.1 in /Users/wjx/Library/Python/3.9/lib/python/site-packages (from requests<3,>=2->langchain) (2.1.0)\n",
      "Requirement already satisfied: mypy-extensions>=0.3.0 in /Users/wjx/Library/Python/3.9/lib/python/site-packages (from typing-inspect<1,>=0.4.0->dataclasses-json<0.7,>=0.5.7->langchain) (1.0.0)\n",
      "\u001b[33mWARNING: You are using pip version 21.2.4; however, version 23.3.1 is available.\n",
      "You should consider upgrading via the '/Library/Developer/CommandLineTools/usr/bin/python3 -m pip install --upgrade pip' command.\u001b[0m\n"
     ]
    }
   ],
   "source": [
    "!pip3 install langchain  -i https://mirrors.aliyun.com/pypi/simple/"
   ]
  },
  {
   "cell_type": "code",
   "execution_count": 16,
   "id": "ce8e1807",
   "metadata": {},
   "outputs": [
    {
     "name": "stdout",
     "output_type": "stream",
     "text": [
      "To calculate the average score for all students in the English course, we need to join the \"students\" and \"courses\" tables on the \"course_id\" column and filter for students who are enrolled in English course.\n",
      "\n",
      "Here is one way to write a SQL query to achieve this:\n",
      "\n",
      "```\n",
      "SELECT AVG(score) as average_score\n",
      "FROM students\n",
      "JOIN courses ON students.course_id = courses.id\n",
      "WHERE courses.name = 'English';\n",
      "```\n",
      "\n",
      "Please note that this assumes the course name for English is exactly 'English'. If the course name is different in the \"courses\" table, you will need to adjust the query accordingly.\n"
     ]
    }
   ],
   "source": [
    "import openai, os\n",
    "from langchain.llms import OpenAI\n",
    "\n",
    "system_prompt =  \"\"\"  You are a software engineer, you can anwser the user request based on the given tables:\n",
    "                  table “students“ with the columns [id, name, course_id, score] \n",
    "                  table \"courses\" with the columns [id, name] \n",
    "                  \"\"\"\n",
    "\n",
    "prompt = system_prompt\n",
    "\n",
    "response = client.chat.completions.create(\n",
    "    model=model,\n",
    "    temperature = 0,\n",
    "    messages=[\n",
    "        {\"role\": \"system\", \"content\": prompt},\n",
    "        {\"role\": \"user\", \"content\": \"计算所有学生英语课程的平均成绩\"},\n",
    "    ],\n",
    "    max_tokens = 500\n",
    "  )\n",
    "print(response.choices[0].message.content)"
   ]
  },
  {
   "cell_type": "markdown",
   "id": "7c6ea8d7",
   "metadata": {},
   "source": [
    "## 生成代码友好的提示词"
   ]
  },
  {
   "cell_type": "markdown",
   "id": "03ff7a80",
   "metadata": {},
   "source": [
    "### 规范输出的格式"
   ]
  },
  {
   "cell_type": "code",
   "execution_count": 17,
   "id": "a327cd24",
   "metadata": {},
   "outputs": [
    {
     "name": "stdout",
     "output_type": "stream",
     "text": [
      "{\n",
      "  \"intention\": \"reminder\",\n",
      "  \"parameters\": {\n",
      "    \"time\": \"8:00 AM\",\n",
      "    \"event\": \"meeting\",\n",
      "    \"date\": \"tomorrow\"\n",
      "  }\n",
      "}\n"
     ]
    }
   ],
   "source": [
    "import openai\n",
    "response = client.chat.completions.create(\n",
    "    model=model,\n",
    "    temperature = 0,\n",
    "    messages=[\n",
    "        {\"role\": \"system\", \"content\": \"\"\"\n",
    "          Recognize the intent from the user's input and format output as JSON string. \n",
    "        The output JSON string includes: \"intention\", \"paramters\" \"\"\"},\n",
    "        {\"role\": \"user\", \"content\": \"提醒我明早8点有会议\"}\n",
    "    ]\n",
    "  )\n",
    "print(response.choices[0].message.content)"
   ]
  },
  {
   "cell_type": "code",
   "execution_count": 19,
   "id": "e9ddc0b4",
   "metadata": {},
   "outputs": [
    {
     "name": "stdout",
     "output_type": "stream",
     "text": [
      "SELECT students.name\n",
      "FROM students\n",
      "INNER JOIN courses ON students.course_id = courses.id\n",
      "WHERE courses.name = '英语' AND students.score > 80;\n"
     ]
    }
   ],
   "source": [
    "import openai, os\n",
    "from langchain.llms import OpenAI\n",
    "\n",
    "system_prompt =  \"\"\"  You are a software engineer, you can write a SQL string as the anwser according to the user request \n",
    "               The user's requirement is based on the given tables:\n",
    "                  table “students“ with the columns [id, name, course_id, score];\n",
    "                  table \"courses\" with the columns [id, name].\"\"\"\n",
    "\n",
    "prompt = system_prompt\n",
    "\n",
    "response = client.chat.completions.create(\n",
    "    model=model,\n",
    "    temperature = 0,\n",
    "    messages=[\n",
    "        {\"role\": \"system\", \"content\": prompt},\n",
    "        #{\"role\": \"user\", \"content\": \"列出英语成绩大于80分的学生\"},\n",
    "        {\"role\": \"user\", \"content\": \"列出英语课程成绩大于80分的学生, 返回结果只包括SQL\"},\n",
    "        #{\"role\": \"user\", \"content\": \"列出年龄大于13的学生\"}\n",
    "    ],\n",
    "    max_tokens = 500\n",
    "  )\n",
    "print(response.choices[0].message.content)"
   ]
  },
  {
   "cell_type": "markdown",
   "id": "446523a7",
   "metadata": {},
   "source": [
    "### 文本规范异常输出的格式 "
   ]
  },
  {
   "cell_type": "code",
   "execution_count": 20,
   "id": "17cfa279",
   "metadata": {},
   "outputs": [
    {
     "name": "stdout",
     "output_type": "stream",
     "text": [
      "SELECT * FROM students WHERE age > 13;\n"
     ]
    }
   ],
   "source": [
    "import openai, os\n",
    "from langchain.llms import OpenAI\n",
    "\n",
    "system_prompt =  \"\"\"  You are a software engineer, you can write a SQL string as the anwser according to the user request \n",
    "               The user's requirement is based on the given tables:\n",
    "                  table “students“ with the columns [id, name, course_id, score];\n",
    "                  table \"courses\" with the columns [id, name].\"\"\"\n",
    "\n",
    "system_prompt_with_negative =  \"\"\"  \n",
    "You are a software engineer, you can write a SQL string as the anwser according to the user request.\n",
    "Also, when you cannot create the SQL query for the user's request based on the given tables, please, only return \"invalid request\"\n",
    "               The user's requirement is based on the given tables:\n",
    "                  table “students“ with the columns [id, name, course_id, score];\n",
    "                  table \"courses\" with the columns [id, name].\"\"\"\n",
    "\n",
    "#prompt = system_prompt\n",
    "prompt = system_prompt_with_negative\n",
    "\n",
    "response = client.chat.completions.create(\n",
    "    model=model,\n",
    "    temperature = 0,\n",
    "    messages=[\n",
    "        {\"role\": \"system\", \"content\": prompt},\n",
    "        {\"role\": \"user\", \"content\": \"列出年龄大于13的学生\"}\n",
    "    ],\n",
    "    max_tokens = 500\n",
    "  )\n",
    "print(response.choices[0].message.content)"
   ]
  }
 ],
 "metadata": {
  "kernelspec": {
   "display_name": "Python 3 (ipykernel)",
   "language": "python",
   "name": "python3"
  },
  "language_info": {
   "codemirror_mode": {
    "name": "ipython",
    "version": 3
   },
   "file_extension": ".py",
   "mimetype": "text/x-python",
   "name": "python",
   "nbconvert_exporter": "python",
   "pygments_lexer": "ipython3",
   "version": "3.9.6"
  }
 },
 "nbformat": 4,
 "nbformat_minor": 5
}
