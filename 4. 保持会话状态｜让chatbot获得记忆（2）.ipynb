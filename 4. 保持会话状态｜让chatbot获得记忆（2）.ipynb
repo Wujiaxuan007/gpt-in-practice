{
 "cells": [
  {
   "cell_type": "code",
   "execution_count": 1,
   "id": "62199c5f",
   "metadata": {},
   "outputs": [],
   "source": [
    "model=\"gpt-35-turbo\"\n",
    "import os\n",
    "openai_api_base = os.environ[\"OPENAI_API_BASE_URL\"];"
   ]
  },
  {
   "cell_type": "code",
   "execution_count": null,
   "id": "0538644c",
   "metadata": {},
   "outputs": [],
   "source": [
    "# from langchain.chat_models import AzureChatOpenAI\n",
    "from langchain.memory import ConversationBufferWindowMemory\n",
    "from langchain.chains import ConversationChain\n",
    "from langchain.chat_models import ChatOpenAI #直接访问OpenAI的GPT服务\n",
    "from langchain import PromptTemplate\n",
    "\n",
    "llm = ChatOpenAI(model_name=model, temperature=0,openai_api_base= openai_api_base)\n",
    "# llm = AzureChatOpenAI(deployment_name = deployment, model_name=model, temperature=0, max_tokens=200) #通过Azure的OpenAI服务\n",
    "synapse_template = \"\"\"\n",
    "Act as Professor Synapse , a conductor of expert agents . \n",
    "Your job is to support me in accomplishing my goals by finding alignment with me , then calling upon an expert agent perfectly suited to the task by initializing : \n",
    "Synapse_CoR =\" I am an expert in [ role & domain ]. I know [ context ]. I will reason step - by - step to determine the best course of action to achieve [ goal ]. I can use [ tools ] and [ relevant frameworks ] to help in this process .\n",
    "\n",
    "I will help you accomplish your goal by following these steps :\n",
    "[ reasoned steps ] My task ends when [ completion ].\n",
    "\n",
    "[ first step , question ]\" \n",
    "\n",
    "Instructions :\n",
    "1. ⭐️ gather context , relevant information and clarify my goals by asking questions \n",
    "2. Once confirmed , initialize Synapse_CoR\n",
    "3. ⭐️  support me until goal is complete \n",
    "Commands :\n",
    "\n",
    "/ start = ⭐️, introduce and begin with step one \n",
    "/ ts = ⭐️, summon ( Synapse_CoR *3) town square debate \n",
    "/ save ⭐️, restate goal , summarize  progress , reason next step  \n",
    "\n",
    "Personality :\n",
    "- curious , inquisitive , encouraging - use emojis to express yourself \n",
    "\n",
    "Rules :\n",
    "- remember ${history}\n",
    "- End every output with a question orreasoned next step - Start every output with : ⭐️: to indicate who is speaking .\n",
    "- Organize every output with ⭐️ aligning on my request , followed by response , \n",
    "- ⭐️,recommend save after each task is completed\n",
    "- Finally , please remember to speak to me in Chinese\n",
    "\n",
    "Current conversation:\n",
    "{history}\n",
    "Human: \n",
    "{input}\n",
    "AI:\n",
    "\"\"\"\n",
    "\n",
    "# Create the PromptTemplate\n",
    "\n",
    "memory = ConversationBufferWindowMemory(k=10) \n",
    "\n",
    "def get_response(input):\n",
    "    print(\"------------\")\n",
    "    print(memory.load_memory_variables({}))\n",
    "    print(\"------------\")\n",
    "    conversation_with_memory = ConversationChain(\n",
    "        llm=llm, \n",
    "        memory=memory,\n",
    "        prompt=PromptTemplate(input_variables=['history', 'input'], template=synapse_template),\n",
    "        verbose=False\n",
    "    )\n",
    "    return conversation_with_memory.predict(input=input)"
   ]
  },
  {
   "cell_type": "code",
   "execution_count": 3,
   "id": "c8e94eec",
   "metadata": {},
   "outputs": [],
   "source": [
    "# print(get_response(\"你好，今天是周二我要去健身，我一般每周二健身。你今天干什么？\"))\n",
    "# print(get_response(\"我一般周几健身？\"))"
   ]
  },
  {
   "cell_type": "code",
   "execution_count": null,
   "id": "a0c10c87",
   "metadata": {},
   "outputs": [],
   "source": [
    "import gradio as gr\n",
    "def respond(message, chat_history):\n",
    "    bot_message = get_response(message)\n",
    "    chat_history.append((message, bot_message))\n",
    "    return \"\", chat_history\n",
    "\n",
    "with gr.Blocks() as demo:\n",
    "    chatbot = gr.Chatbot(height=300) #just to fit the notebook\n",
    "    msg = gr.Textbox(label=\"Prompt\")\n",
    "    btn = gr.Button(\"Submit\")\n",
    "    clear = gr.ClearButton(components=[msg, chatbot], value=\"Clear console\")\n",
    "\n",
    "    btn.click(respond, inputs=[msg, chatbot], outputs=[msg, chatbot])\n",
    "    msg.submit(respond, inputs=[msg, chatbot], outputs=[msg, chatbot]) #Press enter to submit\n",
    "gr.close_all()\n",
    "demo.launch(share=True)"
   ]
  }
 ],
 "metadata": {
  "kernelspec": {
   "display_name": "Python 3 (ipykernel)",
   "language": "python",
   "name": "python3"
  },
  "language_info": {
   "codemirror_mode": {
    "name": "ipython",
    "version": 3
   },
   "file_extension": ".py",
   "mimetype": "text/x-python",
   "name": "python",
   "nbconvert_exporter": "python",
   "pygments_lexer": "ipython3",
   "version": "3.9.6"
  }
 },
 "nbformat": 4,
 "nbformat_minor": 5
}
