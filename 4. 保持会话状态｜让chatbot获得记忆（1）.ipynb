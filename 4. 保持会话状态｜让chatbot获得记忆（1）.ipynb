{
 "cells": [
  {
   "cell_type": "code",
   "execution_count": 12,
   "id": "f310313d",
   "metadata": {},
   "outputs": [],
   "source": [
    "model=\"gpt-35-turbo\"\n",
    "import os\n",
    "openai_api_base = os.environ[\"OPENAI_API_BASE_URL\"];"
   ]
  },
  {
   "cell_type": "markdown",
   "id": "29f45ffa",
   "metadata": {},
   "source": [
    "# 回顾"
   ]
  },
  {
   "cell_type": "code",
   "execution_count": 13,
   "id": "dbc1a0e1",
   "metadata": {},
   "outputs": [],
   "source": [
    "from langchain.chains import LLMRequestsChain\n",
    "from langchain import PromptTemplate, OpenAI, LLMChain\n",
    "from langchain.chat_models import ChatOpenAI\n",
    "\n",
    "llm = ChatOpenAI(model_name=model, temperature=0,openai_api_base= openai_api_base,max_tokens=200)\n",
    "template = \"\"\"Between >>> and <<< are the raw search result text from web.\n",
    "Extract the answer to the question '{query}' or say \"not found\" if the information is not contained.\n",
    "Use the format\n",
    "Extracted:<answer or \"not found\">\n",
    ">>> {requests_result} <<<\n",
    "Extracted:\"\"\"\n",
    "\n",
    "PROMPT = PromptTemplate(\n",
    "  input_variables=[\"query\", \"requests_result\"],\n",
    "  template=template,\n",
    ")\n",
    "\n",
    "\n",
    "query_chain = LLMRequestsChain(llm_chain = LLMChain(llm=llm, prompt=PROMPT), output_key=\"query_info\")\n"
   ]
  },
  {
   "cell_type": "code",
   "execution_count": 14,
   "id": "1f2c1138",
   "metadata": {},
   "outputs": [],
   "source": [
    "from langchain import PromptTemplate, OpenAI, LLMChain\n",
    "from langchain.chat_models import ChatOpenAI\n",
    "from langchain.chains import SequentialChain\n",
    "\n",
    "translating_prompt_template = \"\"\"\n",
    "translate \"{query_info}\" into English:\n",
    "\n",
    "\"\"\"\n",
    "\n",
    "translating_chain = LLMChain(\n",
    "    llm = llm,\n",
    "    prompt=PromptTemplate.from_template(translating_prompt_template),\n",
    "    output_key = \"translated\"\n",
    ")\n",
    "\n",
    "\n"
   ]
  },
  {
   "cell_type": "code",
   "execution_count": 15,
   "id": "5a427661",
   "metadata": {},
   "outputs": [
    {
     "name": "stdout",
     "output_type": "stream",
     "text": [
      "\n",
      "\n",
      "\u001b[1m> Entering new SequentialChain chain...\u001b[0m\n",
      "\n",
      "\u001b[1m> Finished chain.\u001b[0m\n"
     ]
    },
    {
     "data": {
      "text/plain": [
       "'\"Extracted: Strong wind blue warning issued at 16:35 on the 15th. The temperature is 8°C with overcast skies and west wind of level 1. The range of temperature is 2°C to 9°C. The air quality is rated as good. UV index levels for the given time are as follows: 19:00 - 2, 20:00 - 2, 21:00 - 2, 22:00 - 2, 23:00 - 2, 01:00 - 1, 02:00 - 2. The temperature levels for the given time are as follows: 19:00 - 8°C, 20:00 - 6°C, 21:00 - 6°C, 22:00 - 5°C, 23:00 - 4°C, 01:00 - 4°C, 02:00 - 3°C.\"'"
      ]
     },
     "execution_count": 15,
     "metadata": {},
     "output_type": "execute_result"
    }
   ],
   "source": [
    "llm = ChatOpenAI(model_name=model, temperature=0, max_tokens=200,openai_api_base= openai_api_base)\n",
    "\n",
    "def overall(question):\n",
    "    inputs = {\n",
    "      \"query\": question,\n",
    "      \"url\": \"http://www.baidu.com/s?wd=\" + question.replace(\" \", \"+\")\n",
    "      # \"url\": \"https://cn.bing.com/search?q=\" + question.replace(\" \", \"+\")\n",
    "    }\n",
    "    \n",
    "    overall_chain = SequentialChain(\n",
    "        chains=[query_chain, translating_chain],\n",
    "        input_variables=[\"query\",\"url\"],\n",
    "        output_variables=[\"translated\"],\n",
    "        verbose=True\n",
    "    )\n",
    "    \n",
    "    return overall_chain(inputs)[\"translated\"]\n",
    "\n",
    "overall(\"北京今天天气\")"
   ]
  },
  {
   "cell_type": "markdown",
   "id": "54124440",
   "metadata": {},
   "source": [
    "# 没有记忆的模型"
   ]
  },
  {
   "cell_type": "code",
   "execution_count": 16,
   "id": "6df8a7d1",
   "metadata": {},
   "outputs": [],
   "source": [
    "from openai import OpenAI\n",
    "client = OpenAI(\n",
    "    base_url = openai_api_base\n",
    ")\n",
    "def get_response(input):\n",
    "    response = client.chat.completions.create(\n",
    "        model=model,\n",
    "        messages=[\n",
    "            {\"role\": \"system\", \"content\": \"You are an AI assistant.\"},   \n",
    "            {\"role\": \"user\", \"content\": input}\n",
    "        ],\n",
    "        temperature = 0.9, \n",
    "        max_tokens = 200\n",
    "      )\n",
    "    return response.choices[0].message.content"
   ]
  },
  {
   "cell_type": "code",
   "execution_count": 17,
   "id": "0804701b",
   "metadata": {},
   "outputs": [
    {
     "name": "stdout",
     "output_type": "stream",
     "text": [
      "你好！作为一个AI助手，我没有身体，所以不需要健身。我会继续帮助你解答问题和提供信息。有什么我可以帮到你的吗？\n",
      "作为一个AI助手，我无法准确知道您的个人日常安排。通常，健身时间是根据个人偏好和日程安排来确定的。大多数人选择在工作日或周末进行健身训练。您可以根据自己的时间表和喜好选择一周中适合您的时间进行健身。重要的是保持一致性并将健身活动纳入您的日常生活中。\n"
     ]
    }
   ],
   "source": [
    "print(get_response(\"你好，今天是周二我要去健身，我一般每周二健身。你今天干什么？\"))\n",
    "print(get_response(\"我一般周几健身？\"))"
   ]
  },
  {
   "cell_type": "markdown",
   "id": "47d9a1d0",
   "metadata": {},
   "source": [
    "# 通过Gradio快速展示功能"
   ]
  },
  {
   "cell_type": "code",
   "execution_count": 18,
   "id": "af13c666",
   "metadata": {},
   "outputs": [
    {
     "name": "stdout",
     "output_type": "stream",
     "text": [
      "Defaulting to user installation because normal site-packages is not writeable\n",
      "Requirement already satisfied: gradio in /Users/wjx/Library/Python/3.9/lib/python/site-packages (4.3.0)\n",
      "Requirement already satisfied: altair<6.0,>=4.2.0 in /Users/wjx/Library/Python/3.9/lib/python/site-packages (from gradio) (5.1.2)\n",
      "Requirement already satisfied: markupsafe~=2.0 in /Users/wjx/Library/Python/3.9/lib/python/site-packages (from gradio) (2.1.3)\n",
      "Requirement already satisfied: typing-extensions~=4.0 in /Users/wjx/Library/Python/3.9/lib/python/site-packages (from gradio) (4.8.0)\n",
      "Requirement already satisfied: python-multipart in /Users/wjx/Library/Python/3.9/lib/python/site-packages (from gradio) (0.0.6)\n",
      "Requirement already satisfied: importlib-resources<7.0,>=1.3 in /Users/wjx/Library/Python/3.9/lib/python/site-packages (from gradio) (6.1.1)\n",
      "Requirement already satisfied: packaging in /Users/wjx/Library/Python/3.9/lib/python/site-packages (from gradio) (23.2)\n",
      "Requirement already satisfied: requests~=2.0 in /Users/wjx/Library/Python/3.9/lib/python/site-packages (from gradio) (2.31.0)\n",
      "Requirement already satisfied: matplotlib~=3.0 in /Users/wjx/Library/Python/3.9/lib/python/site-packages (from gradio) (3.8.1)\n",
      "Requirement already satisfied: typer[all]<1.0,>=0.9 in /Users/wjx/Library/Python/3.9/lib/python/site-packages (from gradio) (0.9.0)\n",
      "Requirement already satisfied: pyyaml<7.0,>=5.0 in /Users/wjx/Library/Python/3.9/lib/python/site-packages (from gradio) (6.0.1)\n",
      "Requirement already satisfied: orjson~=3.0 in /Users/wjx/Library/Python/3.9/lib/python/site-packages (from gradio) (3.9.10)\n",
      "Requirement already satisfied: jinja2<4.0 in /Users/wjx/Library/Python/3.9/lib/python/site-packages (from gradio) (3.1.2)\n",
      "Requirement already satisfied: pydub in /Users/wjx/Library/Python/3.9/lib/python/site-packages (from gradio) (0.25.1)\n",
      "Requirement already satisfied: fastapi in /Users/wjx/Library/Python/3.9/lib/python/site-packages (from gradio) (0.104.1)\n",
      "Requirement already satisfied: gradio-client==0.7.0 in /Users/wjx/Library/Python/3.9/lib/python/site-packages (from gradio) (0.7.0)\n",
      "Requirement already satisfied: tomlkit==0.12.0 in /Users/wjx/Library/Python/3.9/lib/python/site-packages (from gradio) (0.12.0)\n",
      "Requirement already satisfied: ffmpy in /Users/wjx/Library/Python/3.9/lib/python/site-packages (from gradio) (0.3.1)\n",
      "Requirement already satisfied: numpy~=1.0 in /Users/wjx/Library/Python/3.9/lib/python/site-packages (from gradio) (1.26.2)\n",
      "Requirement already satisfied: semantic-version~=2.0 in /Users/wjx/Library/Python/3.9/lib/python/site-packages (from gradio) (2.10.0)\n",
      "Requirement already satisfied: pillow<11.0,>=8.0 in /Users/wjx/Library/Python/3.9/lib/python/site-packages (from gradio) (10.1.0)\n",
      "Requirement already satisfied: huggingface-hub>=0.14.0 in /Users/wjx/Library/Python/3.9/lib/python/site-packages (from gradio) (0.19.1)\n",
      "Requirement already satisfied: uvicorn>=0.14.0 in /Users/wjx/Library/Python/3.9/lib/python/site-packages (from gradio) (0.24.0.post1)\n",
      "Requirement already satisfied: pydantic>=2.0 in /Users/wjx/Library/Python/3.9/lib/python/site-packages (from gradio) (2.5.0)\n",
      "Requirement already satisfied: aiofiles<24.0,>=22.0 in /Users/wjx/Library/Python/3.9/lib/python/site-packages (from gradio) (23.2.1)\n",
      "Requirement already satisfied: httpx in /Users/wjx/Library/Python/3.9/lib/python/site-packages (from gradio) (0.25.1)\n",
      "Requirement already satisfied: pandas<3.0,>=1.0 in /Users/wjx/Library/Python/3.9/lib/python/site-packages (from gradio) (2.1.3)\n",
      "Requirement already satisfied: fsspec in /Users/wjx/Library/Python/3.9/lib/python/site-packages (from gradio-client==0.7.0->gradio) (2023.10.0)\n",
      "Requirement already satisfied: websockets<12.0,>=10.0 in /Users/wjx/Library/Python/3.9/lib/python/site-packages (from gradio-client==0.7.0->gradio) (11.0.3)\n",
      "Requirement already satisfied: toolz in /Users/wjx/Library/Python/3.9/lib/python/site-packages (from altair<6.0,>=4.2.0->gradio) (0.12.0)\n",
      "Requirement already satisfied: jsonschema>=3.0 in /Users/wjx/Library/Python/3.9/lib/python/site-packages (from altair<6.0,>=4.2.0->gradio) (4.19.2)\n",
      "Requirement already satisfied: filelock in /Users/wjx/Library/Python/3.9/lib/python/site-packages (from huggingface-hub>=0.14.0->gradio) (3.13.1)\n",
      "Requirement already satisfied: tqdm>=4.42.1 in /Users/wjx/Library/Python/3.9/lib/python/site-packages (from huggingface-hub>=0.14.0->gradio) (4.66.1)\n",
      "Requirement already satisfied: zipp>=3.1.0 in /Users/wjx/Library/Python/3.9/lib/python/site-packages (from importlib-resources<7.0,>=1.3->gradio) (3.17.0)\n",
      "Requirement already satisfied: jsonschema-specifications>=2023.03.6 in /Users/wjx/Library/Python/3.9/lib/python/site-packages (from jsonschema>=3.0->altair<6.0,>=4.2.0->gradio) (2023.11.1)\n",
      "Requirement already satisfied: attrs>=22.2.0 in /Users/wjx/Library/Python/3.9/lib/python/site-packages (from jsonschema>=3.0->altair<6.0,>=4.2.0->gradio) (23.1.0)\n",
      "Requirement already satisfied: referencing>=0.28.4 in /Users/wjx/Library/Python/3.9/lib/python/site-packages (from jsonschema>=3.0->altair<6.0,>=4.2.0->gradio) (0.31.0)\n",
      "Requirement already satisfied: rpds-py>=0.7.1 in /Users/wjx/Library/Python/3.9/lib/python/site-packages (from jsonschema>=3.0->altair<6.0,>=4.2.0->gradio) (0.12.0)\n",
      "Requirement already satisfied: python-dateutil>=2.7 in /Users/wjx/Library/Python/3.9/lib/python/site-packages (from matplotlib~=3.0->gradio) (2.8.2)\n",
      "Requirement already satisfied: contourpy>=1.0.1 in /Users/wjx/Library/Python/3.9/lib/python/site-packages (from matplotlib~=3.0->gradio) (1.2.0)\n",
      "Requirement already satisfied: fonttools>=4.22.0 in /Users/wjx/Library/Python/3.9/lib/python/site-packages (from matplotlib~=3.0->gradio) (4.44.1)\n",
      "Requirement already satisfied: cycler>=0.10 in /Users/wjx/Library/Python/3.9/lib/python/site-packages (from matplotlib~=3.0->gradio) (0.12.1)\n",
      "Requirement already satisfied: kiwisolver>=1.3.1 in /Users/wjx/Library/Python/3.9/lib/python/site-packages (from matplotlib~=3.0->gradio) (1.4.5)\n",
      "Requirement already satisfied: pyparsing>=2.3.1 in /Users/wjx/Library/Python/3.9/lib/python/site-packages (from matplotlib~=3.0->gradio) (3.1.1)\n",
      "Requirement already satisfied: pytz>=2020.1 in /Users/wjx/Library/Python/3.9/lib/python/site-packages (from pandas<3.0,>=1.0->gradio) (2023.3.post1)\n",
      "Requirement already satisfied: tzdata>=2022.1 in /Users/wjx/Library/Python/3.9/lib/python/site-packages (from pandas<3.0,>=1.0->gradio) (2023.3)\n",
      "Requirement already satisfied: annotated-types>=0.4.0 in /Users/wjx/Library/Python/3.9/lib/python/site-packages (from pydantic>=2.0->gradio) (0.6.0)\n",
      "Requirement already satisfied: pydantic-core==2.14.1 in /Users/wjx/Library/Python/3.9/lib/python/site-packages (from pydantic>=2.0->gradio) (2.14.1)\n",
      "Requirement already satisfied: six>=1.5 in /Library/Developer/CommandLineTools/Library/Frameworks/Python3.framework/Versions/3.9/lib/python3.9/site-packages (from python-dateutil>=2.7->matplotlib~=3.0->gradio) (1.15.0)\n",
      "Requirement already satisfied: idna<4,>=2.5 in /Users/wjx/Library/Python/3.9/lib/python/site-packages (from requests~=2.0->gradio) (3.4)\n",
      "Requirement already satisfied: charset-normalizer<4,>=2 in /Users/wjx/Library/Python/3.9/lib/python/site-packages (from requests~=2.0->gradio) (3.3.2)\n",
      "Requirement already satisfied: certifi>=2017.4.17 in /Users/wjx/Library/Python/3.9/lib/python/site-packages (from requests~=2.0->gradio) (2023.7.22)\n",
      "Requirement already satisfied: urllib3<3,>=1.21.1 in /Users/wjx/Library/Python/3.9/lib/python/site-packages (from requests~=2.0->gradio) (2.1.0)\n",
      "Requirement already satisfied: click<9.0.0,>=7.1.1 in /Users/wjx/Library/Python/3.9/lib/python/site-packages (from typer[all]<1.0,>=0.9->gradio) (8.1.7)\n",
      "Requirement already satisfied: colorama<0.5.0,>=0.4.3 in /Users/wjx/Library/Python/3.9/lib/python/site-packages (from typer[all]<1.0,>=0.9->gradio) (0.4.6)\n",
      "Requirement already satisfied: shellingham<2.0.0,>=1.3.0 in /Users/wjx/Library/Python/3.9/lib/python/site-packages (from typer[all]<1.0,>=0.9->gradio) (1.5.4)\n",
      "Requirement already satisfied: rich<14.0.0,>=10.11.0 in /Users/wjx/Library/Python/3.9/lib/python/site-packages (from typer[all]<1.0,>=0.9->gradio) (13.6.0)\n",
      "Requirement already satisfied: markdown-it-py>=2.2.0 in /Users/wjx/Library/Python/3.9/lib/python/site-packages (from rich<14.0.0,>=10.11.0->typer[all]<1.0,>=0.9->gradio) (3.0.0)\n",
      "Requirement already satisfied: pygments<3.0.0,>=2.13.0 in /Users/wjx/Library/Python/3.9/lib/python/site-packages (from rich<14.0.0,>=10.11.0->typer[all]<1.0,>=0.9->gradio) (2.16.1)\n",
      "Requirement already satisfied: mdurl~=0.1 in /Users/wjx/Library/Python/3.9/lib/python/site-packages (from markdown-it-py>=2.2.0->rich<14.0.0,>=10.11.0->typer[all]<1.0,>=0.9->gradio) (0.1.2)\n",
      "Requirement already satisfied: h11>=0.8 in /Users/wjx/Library/Python/3.9/lib/python/site-packages (from uvicorn>=0.14.0->gradio) (0.14.0)\n",
      "Requirement already satisfied: starlette<0.28.0,>=0.27.0 in /Users/wjx/Library/Python/3.9/lib/python/site-packages (from fastapi->gradio) (0.27.0)\n",
      "Requirement already satisfied: anyio<4.0.0,>=3.7.1 in /Users/wjx/Library/Python/3.9/lib/python/site-packages (from fastapi->gradio) (3.7.1)\n",
      "Requirement already satisfied: sniffio>=1.1 in /Users/wjx/Library/Python/3.9/lib/python/site-packages (from anyio<4.0.0,>=3.7.1->fastapi->gradio) (1.3.0)\n",
      "Requirement already satisfied: exceptiongroup in /Users/wjx/Library/Python/3.9/lib/python/site-packages (from anyio<4.0.0,>=3.7.1->fastapi->gradio) (1.1.3)\n",
      "Requirement already satisfied: httpcore in /Users/wjx/Library/Python/3.9/lib/python/site-packages (from httpx->gradio) (1.0.2)\n",
      "\u001b[33mWARNING: You are using pip version 21.2.4; however, version 23.3.1 is available.\n",
      "You should consider upgrading via the '/Library/Developer/CommandLineTools/usr/bin/python3 -m pip install --upgrade pip' command.\u001b[0m\n"
     ]
    }
   ],
   "source": [
    "!pip3 install gradio"
   ]
  },
  {
   "cell_type": "code",
   "execution_count": 20,
   "id": "13092b1c",
   "metadata": {},
   "outputs": [
    {
     "name": "stderr",
     "output_type": "stream",
     "text": [
      "/Users/wjx/Library/Python/3.9/lib/python/site-packages/gradio/blocks.py:928: UserWarning: api_name respond already exists, using respond_1\n",
      "  warnings.warn(f\"api_name {api_name} already exists, using {api_name_}\")\n"
     ]
    },
    {
     "name": "stdout",
     "output_type": "stream",
     "text": [
      "Running on local URL:  http://127.0.0.1:7867\n",
      "Running on public URL: https://7ffaf96041cb63ecdd.gradio.live\n",
      "\n",
      "This share link expires in 72 hours. For free permanent hosting and GPU upgrades, run `gradio deploy` from Terminal to deploy to Spaces (https://huggingface.co/spaces)\n"
     ]
    },
    {
     "data": {
      "text/html": [
       "<div><iframe src=\"https://7ffaf96041cb63ecdd.gradio.live\" width=\"100%\" height=\"500\" allow=\"autoplay; camera; microphone; clipboard-read; clipboard-write;\" frameborder=\"0\" allowfullscreen></iframe></div>"
      ],
      "text/plain": [
       "<IPython.core.display.HTML object>"
      ]
     },
     "metadata": {},
     "output_type": "display_data"
    },
    {
     "data": {
      "text/plain": []
     },
     "execution_count": 20,
     "metadata": {},
     "output_type": "execute_result"
    }
   ],
   "source": [
    "import gradio as gr\n",
    "def respond(message, chat_history):\n",
    "        bot_message = get_response(message)\n",
    "        chat_history.append((message, bot_message)) #保存历史对话记录，用于显示\n",
    "        return \"\", chat_history\n",
    "\n",
    "with gr.Blocks() as demo:\n",
    "    chatbot = gr.Chatbot(height=240) #对话框\n",
    "    msg = gr.Textbox(label=\"Prompt\") #输入框\n",
    "    btn = gr.Button(\"Submit\") #提交按钮\n",
    "    #提交\n",
    "    btn.click(respond, inputs=[msg, chatbot], outputs=[msg, chatbot])\n",
    "    msg.submit(respond, inputs=[msg, chatbot], outputs=[msg, chatbot]) \n",
    "gr.close_all()\n",
    "demo.launch(share=True)"
   ]
  },
  {
   "cell_type": "markdown",
   "id": "040d6f45",
   "metadata": {},
   "source": [
    "# 提供外部记忆"
   ]
  },
  {
   "cell_type": "code",
   "execution_count": 21,
   "id": "d525ac99",
   "metadata": {},
   "outputs": [],
   "source": [
    "import openai\n",
    "def get_response(msg):\n",
    "    # print(msg)\n",
    "    response = client.chat.completions.create(\n",
    "        model=model, \n",
    "        messages=msg,\n",
    "        temperature = 0.9, \n",
    "        max_tokens = 600\n",
    "    )\n",
    "    return response.choices[0].message.content"
   ]
  },
  {
   "cell_type": "code",
   "execution_count": 22,
   "id": "9294baba-d4bc-4c19-8786-6b0270bb0c36",
   "metadata": {},
   "outputs": [],
   "source": [
    "\n",
    "def history_to_prompt(chat_history): # 将对话内容保存在一个List里\n",
    "    msg = [{\"role\": \"system\", \"content\": \"You are an AI assistant.\"}]\n",
    "    i = 0\n",
    "    for round_trip in chat_history: # 将List里的内容，组成 ChatCompletion的 messages部分，{role，content} dict\n",
    "        msg.append({\"role\": \"user\", \"content\": round_trip[0]})\n",
    "        msg.append({\"role\": \"assistant\", \"content\": round_trip[1]})\n",
    "    return msg\n",
    "\n",
    "def respond(message, chat_history):\n",
    "    his_msg = history_to_prompt(chat_history) #并装历史会话，ChatCompletion的 messages部分格式\n",
    "    his_msg.append({\"role\": \"user\", \"content\": message}) # 放入当前用户问题\n",
    "    bot_message = get_response(his_msg)\n",
    "    chat_history.append((message, bot_message)) # 将用户问题和返回保存到 历史记录 List\n",
    "    return \"\", chat_history\n",
    "\n"
   ]
  },
  {
   "cell_type": "code",
   "execution_count": 23,
   "id": "9e1c2807-52ba-4265-96cb-e54d634f9fa8",
   "metadata": {},
   "outputs": [
    {
     "name": "stderr",
     "output_type": "stream",
     "text": [
      "/Users/wjx/Library/Python/3.9/lib/python/site-packages/gradio/blocks.py:928: UserWarning: api_name respond already exists, using respond_1\n",
      "  warnings.warn(f\"api_name {api_name} already exists, using {api_name_}\")\n"
     ]
    },
    {
     "name": "stdout",
     "output_type": "stream",
     "text": [
      "Running on local URL:  http://127.0.0.1:7868\n",
      "Running on public URL: https://71255d3bb2758b6abc.gradio.live\n",
      "\n",
      "This share link expires in 72 hours. For free permanent hosting and GPU upgrades, run `gradio deploy` from Terminal to deploy to Spaces (https://huggingface.co/spaces)\n"
     ]
    },
    {
     "data": {
      "text/html": [
       "<div><iframe src=\"https://71255d3bb2758b6abc.gradio.live\" width=\"100%\" height=\"500\" allow=\"autoplay; camera; microphone; clipboard-read; clipboard-write;\" frameborder=\"0\" allowfullscreen></iframe></div>"
      ],
      "text/plain": [
       "<IPython.core.display.HTML object>"
      ]
     },
     "metadata": {},
     "output_type": "display_data"
    },
    {
     "data": {
      "text/plain": []
     },
     "execution_count": 23,
     "metadata": {},
     "output_type": "execute_result"
    }
   ],
   "source": [
    "import gradio as gr\n",
    "with gr.Blocks() as demo:\n",
    "    chatbot = gr.Chatbot(height=480) #just to fit the notebook\n",
    "    msg = gr.Textbox(label=\"Prompt\")\n",
    "    btn = gr.Button(\"Submit\")\n",
    "    clear = gr.ClearButton(components=[msg, chatbot], value=\"Clear console\")\n",
    "\n",
    "    btn.click(respond, inputs=[msg, chatbot], outputs=[msg, chatbot])\n",
    "    msg.submit(respond, inputs=[msg, chatbot], outputs=[msg, chatbot]) #Press enter to submit\n",
    "gr.close_all()\n",
    "demo.launch(share=True)"
   ]
  },
  {
   "cell_type": "code",
   "execution_count": null,
   "id": "57106547-7c0d-4cc6-9ba9-34fe94887428",
   "metadata": {},
   "outputs": [],
   "source": []
  }
 ],
 "metadata": {
  "kernelspec": {
   "display_name": "Python 3 (ipykernel)",
   "language": "python",
   "name": "python3"
  },
  "language_info": {
   "codemirror_mode": {
    "name": "ipython",
    "version": 3
   },
   "file_extension": ".py",
   "mimetype": "text/x-python",
   "name": "python",
   "nbconvert_exporter": "python",
   "pygments_lexer": "ipython3",
   "version": "3.9.6"
  }
 },
 "nbformat": 4,
 "nbformat_minor": 5
}
