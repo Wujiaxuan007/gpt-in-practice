{
 "cells": [
  {
   "cell_type": "code",
   "execution_count": 1,
   "id": "ee194690",
   "metadata": {},
   "outputs": [],
   "source": [
    "model = \"gpt-35-turbo\"\n",
    "import os\n",
    "openai_api_base = os.environ[\"OPENAI_API_BASE_URL\"];"
   ]
  },
  {
   "cell_type": "markdown",
   "id": "de6a55d2",
   "metadata": {},
   "source": [
    "# 回顾"
   ]
  },
  {
   "cell_type": "code",
   "execution_count": 2,
   "id": "6a4415ee",
   "metadata": {},
   "outputs": [],
   "source": [
    "from openai import OpenAI\n",
    "client = OpenAI(\n",
    "    base_url = openai_api_base\n",
    ")\n",
    "def analyze_user_review(text):\n",
    "    messages = []\n",
    "    messages.append( {\"role\": \"system\", \n",
    "                      \"content\": \"\"\"\n",
    "                      You are an assistant. \n",
    "                      Please, analyze the user reviews according to the following instruction: \n",
    "                      If the review is postive, you should output 'Y', otherwise output 'N'\n",
    "                      \"\"\"})\n",
    "    messages.append( {\"role\": \"user\", \"content\": text})\n",
    "    response = client.chat.completions.create(\n",
    "        model = model,\n",
    "        messages=messages,\n",
    "        temperature=0.5,\n",
    "        max_tokens = 100\n",
    "    )\n",
    "    return response.choices[0].message.content"
   ]
  },
  {
   "cell_type": "code",
   "execution_count": 3,
   "id": "56058099",
   "metadata": {},
   "outputs": [
    {
     "data": {
      "text/plain": [
       "'Y'"
      ]
     },
     "execution_count": 3,
     "metadata": {},
     "output_type": "execute_result"
    }
   ],
   "source": [
    "analyze_user_review(\"服务热情周到。\")"
   ]
  },
  {
   "cell_type": "code",
   "execution_count": 4,
   "id": "9a5473f9",
   "metadata": {},
   "outputs": [
    {
     "data": {
      "text/plain": [
       "'N'"
      ]
     },
     "execution_count": 4,
     "metadata": {},
     "output_type": "execute_result"
    }
   ],
   "source": [
    "analyze_user_review(\"不理不睬。\")"
   ]
  },
  {
   "cell_type": "code",
   "execution_count": 5,
   "id": "017882d2",
   "metadata": {},
   "outputs": [
    {
     "data": {
      "text/plain": [
       "'N'"
      ]
     },
     "execution_count": 5,
     "metadata": {},
     "output_type": "execute_result"
    }
   ],
   "source": [
    "analyze_user_review(\"用餐环境差，等待时间长。\")"
   ]
  },
  {
   "cell_type": "code",
   "execution_count": 6,
   "id": "7537df8a",
   "metadata": {},
   "outputs": [
    {
     "name": "stdout",
     "output_type": "stream",
     "text": [
      "Defaulting to user installation because normal site-packages is not writeable\n",
      "Requirement already satisfied: langchain in /Users/wjx/Library/Python/3.9/lib/python/site-packages (0.0.335)\n",
      "Requirement already satisfied: dataclasses-json<0.7,>=0.5.7 in /Users/wjx/Library/Python/3.9/lib/python/site-packages (from langchain) (0.6.2)\n",
      "Requirement already satisfied: pydantic<3,>=1 in /Users/wjx/Library/Python/3.9/lib/python/site-packages (from langchain) (2.5.0)\n",
      "Requirement already satisfied: PyYAML>=5.3 in /Users/wjx/Library/Python/3.9/lib/python/site-packages (from langchain) (6.0.1)\n",
      "Requirement already satisfied: requests<3,>=2 in /Users/wjx/Library/Python/3.9/lib/python/site-packages (from langchain) (2.31.0)\n",
      "Requirement already satisfied: aiohttp<4.0.0,>=3.8.3 in /Users/wjx/Library/Python/3.9/lib/python/site-packages (from langchain) (3.8.6)\n",
      "Requirement already satisfied: SQLAlchemy<3,>=1.4 in /Users/wjx/Library/Python/3.9/lib/python/site-packages (from langchain) (2.0.23)\n",
      "Requirement already satisfied: jsonpatch<2.0,>=1.33 in /Users/wjx/Library/Python/3.9/lib/python/site-packages (from langchain) (1.33)\n",
      "Requirement already satisfied: tenacity<9.0.0,>=8.1.0 in /Users/wjx/Library/Python/3.9/lib/python/site-packages (from langchain) (8.2.3)\n",
      "Requirement already satisfied: anyio<4.0 in /Users/wjx/Library/Python/3.9/lib/python/site-packages (from langchain) (3.7.1)\n",
      "Requirement already satisfied: async-timeout<5.0.0,>=4.0.0 in /Users/wjx/Library/Python/3.9/lib/python/site-packages (from langchain) (4.0.3)\n",
      "Requirement already satisfied: langsmith<0.1.0,>=0.0.63 in /Users/wjx/Library/Python/3.9/lib/python/site-packages (from langchain) (0.0.64)\n",
      "Requirement already satisfied: numpy<2,>=1 in /Users/wjx/Library/Python/3.9/lib/python/site-packages (from langchain) (1.26.2)\n",
      "Requirement already satisfied: aiosignal>=1.1.2 in /Users/wjx/Library/Python/3.9/lib/python/site-packages (from aiohttp<4.0.0,>=3.8.3->langchain) (1.3.1)\n",
      "Requirement already satisfied: charset-normalizer<4.0,>=2.0 in /Users/wjx/Library/Python/3.9/lib/python/site-packages (from aiohttp<4.0.0,>=3.8.3->langchain) (3.3.2)\n",
      "Requirement already satisfied: attrs>=17.3.0 in /Users/wjx/Library/Python/3.9/lib/python/site-packages (from aiohttp<4.0.0,>=3.8.3->langchain) (23.1.0)\n",
      "Requirement already satisfied: multidict<7.0,>=4.5 in /Users/wjx/Library/Python/3.9/lib/python/site-packages (from aiohttp<4.0.0,>=3.8.3->langchain) (6.0.4)\n",
      "Requirement already satisfied: yarl<2.0,>=1.0 in /Users/wjx/Library/Python/3.9/lib/python/site-packages (from aiohttp<4.0.0,>=3.8.3->langchain) (1.9.2)\n",
      "Requirement already satisfied: frozenlist>=1.1.1 in /Users/wjx/Library/Python/3.9/lib/python/site-packages (from aiohttp<4.0.0,>=3.8.3->langchain) (1.4.0)\n",
      "Requirement already satisfied: idna>=2.8 in /Users/wjx/Library/Python/3.9/lib/python/site-packages (from anyio<4.0->langchain) (3.4)\n",
      "Requirement already satisfied: exceptiongroup in /Users/wjx/Library/Python/3.9/lib/python/site-packages (from anyio<4.0->langchain) (1.1.3)\n",
      "Requirement already satisfied: sniffio>=1.1 in /Users/wjx/Library/Python/3.9/lib/python/site-packages (from anyio<4.0->langchain) (1.3.0)\n",
      "Requirement already satisfied: marshmallow<4.0.0,>=3.18.0 in /Users/wjx/Library/Python/3.9/lib/python/site-packages (from dataclasses-json<0.7,>=0.5.7->langchain) (3.20.1)\n",
      "Requirement already satisfied: typing-inspect<1,>=0.4.0 in /Users/wjx/Library/Python/3.9/lib/python/site-packages (from dataclasses-json<0.7,>=0.5.7->langchain) (0.9.0)\n",
      "Requirement already satisfied: jsonpointer>=1.9 in /Users/wjx/Library/Python/3.9/lib/python/site-packages (from jsonpatch<2.0,>=1.33->langchain) (2.4)\n",
      "Requirement already satisfied: packaging>=17.0 in /Users/wjx/Library/Python/3.9/lib/python/site-packages (from marshmallow<4.0.0,>=3.18.0->dataclasses-json<0.7,>=0.5.7->langchain) (23.2)\n",
      "Requirement already satisfied: pydantic-core==2.14.1 in /Users/wjx/Library/Python/3.9/lib/python/site-packages (from pydantic<3,>=1->langchain) (2.14.1)\n",
      "Requirement already satisfied: annotated-types>=0.4.0 in /Users/wjx/Library/Python/3.9/lib/python/site-packages (from pydantic<3,>=1->langchain) (0.6.0)\n",
      "Requirement already satisfied: typing-extensions>=4.6.1 in /Users/wjx/Library/Python/3.9/lib/python/site-packages (from pydantic<3,>=1->langchain) (4.8.0)\n",
      "Requirement already satisfied: certifi>=2017.4.17 in /Users/wjx/Library/Python/3.9/lib/python/site-packages (from requests<3,>=2->langchain) (2023.7.22)\n",
      "Requirement already satisfied: urllib3<3,>=1.21.1 in /Users/wjx/Library/Python/3.9/lib/python/site-packages (from requests<3,>=2->langchain) (2.1.0)\n",
      "Requirement already satisfied: mypy-extensions>=0.3.0 in /Users/wjx/Library/Python/3.9/lib/python/site-packages (from typing-inspect<1,>=0.4.0->dataclasses-json<0.7,>=0.5.7->langchain) (1.0.0)\n",
      "\u001b[33mWARNING: You are using pip version 21.2.4; however, version 23.3.1 is available.\n",
      "You should consider upgrading via the '/Library/Developer/CommandLineTools/usr/bin/python3 -m pip install --upgrade pip' command.\u001b[0m\n"
     ]
    }
   ],
   "source": [
    "!pip3 install --upgrade langchain"
   ]
  },
  {
   "cell_type": "markdown",
   "id": "8e1d51c9",
   "metadata": {},
   "source": [
    "# 提示词模版"
   ]
  },
  {
   "cell_type": "code",
   "execution_count": 10,
   "id": "a9749461",
   "metadata": {},
   "outputs": [
    {
     "data": {
      "text/plain": [
       "'A great name for a company that makes colorful socks would be \"VibrantHues\".'"
      ]
     },
     "execution_count": 10,
     "metadata": {},
     "output_type": "execute_result"
    }
   ],
   "source": [
    "from langchain import PromptTemplate, OpenAI, LLMChain\n",
    "from langchain.chat_models import ChatOpenAI \n",
    "\n",
    "prompt_template = \"What is a good name for a company that makes {product}? And only return the best one.\"\n",
    "\n",
    "llm = ChatOpenAI(model_name=model, temperature=0,openai_api_base= openai_api_base) #直接访问OpenAI的GPT服务\n",
    "# llm = AzureChatOpenAI(deployment_name = deployment, model_name=model, temperature=0, max_tokens=200) # 通过Azure的OpenAI服务\n",
    "llm_chain = LLMChain(\n",
    "    llm=llm,\n",
    "    prompt=PromptTemplate.from_template(prompt_template)\n",
    ")\n",
    "llm_chain.run(\"colorful socks\")"
   ]
  },
  {
   "cell_type": "code",
   "execution_count": 8,
   "id": "3e5f2fbf",
   "metadata": {},
   "outputs": [
    {
     "data": {
      "text/plain": [
       "[{'text': 'The best name for a company that makes a cloud-native DevOps platform would be \"CloudOps Innovations.\"'},\n",
       " {'text': 'The best name for a company that makes noise cancellation headphones could be \"SilentSound.\"'},\n",
       " {'text': 'A fantastic name for a company that produces vibrant and colorful socks could be \"ChromaSock.\"'}]"
      ]
     },
     "execution_count": 8,
     "metadata": {},
     "output_type": "execute_result"
    }
   ],
   "source": [
    "products = [{\"product\":\"'cloudnative devops platform'\"},\n",
    "            {\"product\":\"'Noise cancellation headphone'\"}, \n",
    "            {\"product\":\"colorful socks\"}]\n",
    "llm_chain.apply(products)"
   ]
  },
  {
   "cell_type": "markdown",
   "id": "9edff0fc",
   "metadata": {},
   "source": [
    "# API调用链\n",
    "## HTTP request chain"
   ]
  },
  {
   "cell_type": "code",
   "execution_count": 11,
   "id": "7125db24",
   "metadata": {},
   "outputs": [],
   "source": [
    "from langchain import PromptTemplate, OpenAI, LLMChain\n",
    "from langchain.chains import LLMRequestsChain\n",
    "# from langchain.chat_models import AzureChatOpenAI\n",
    "from langchain.chat_models import ChatOpenAI\n",
    "\n",
    "llm = ChatOpenAI(model_name=model, temperature=0,openai_api_base= openai_api_base)\n",
    "# llm = AzureChatOpenAI(deployment_name = deployment, model_name=model, temperature=0, max_tokens=200) #通过Azure的OpenAI服务\n",
    "\n",
    "def query_baidu(question):\n",
    "      template = \"\"\"Between >>> and <<< are the raw search result text from web.\n",
    "      Extract the answer to the question '{query}' or say \"not found\" if the information is not contained.\n",
    "      Use the format\n",
    "      Extracted:<answer or \"not found\">\n",
    "      >>> {requests_result} <<<\n",
    "      Extracted:\"\"\"\n",
    "\n",
    "      PROMPT = PromptTemplate(\n",
    "          input_variables=[\"query\", \"requests_result\"],\n",
    "          template=template,\n",
    "      )\n",
    "\n",
    "      inputs = {\n",
    "          \"query\": question,\n",
    "          \"url\": \"http://www.baidu.com/s?wd=\" + question.replace(\" \", \"+\")\n",
    "      }\n",
    "      requests_chain = LLMRequestsChain(llm_chain = LLMChain(llm=llm, prompt=PROMPT), output_key=\"query_info\", verbose=True)\n",
    "      res = requests_chain.run(inputs)\n",
    "      return res"
   ]
  },
  {
   "cell_type": "code",
   "execution_count": 12,
   "id": "39ac85a9",
   "metadata": {},
   "outputs": [
    {
     "name": "stdout",
     "output_type": "stream",
     "text": [
      "\n",
      "\n",
      "\u001b[1m> Entering new LLMRequestsChain chain...\u001b[0m\n",
      "\n",
      "\u001b[1m> Finished chain.\u001b[0m\n"
     ]
    },
    {
     "data": {
      "text/plain": [
       "'Extracted: 今天多云转阴，最高气温9℃，最低气温2℃。西北风3-4级，阵风六七级。部分地区有雨夹雪或小雪。'"
      ]
     },
     "execution_count": 12,
     "metadata": {},
     "output_type": "execute_result"
    }
   ],
   "source": [
    "query_baidu(\"今天北京天气？\")"
   ]
  },
  {
   "cell_type": "code",
   "execution_count": 13,
   "id": "9ca99892",
   "metadata": {},
   "outputs": [],
   "source": [
    "import os\n",
    "# os.environ[\"SERPER_API_KEY\"] = \"\"\n",
    "# https://serper.dev\n",
    "from langchain.utilities import GoogleSerperAPIWrapper\n",
    "def query_web(question):\n",
    "    search = GoogleSerperAPIWrapper()\n",
    "    return search.run(question)\n"
   ]
  },
  {
   "cell_type": "code",
   "execution_count": 14,
   "id": "681ec2dc",
   "metadata": {},
   "outputs": [
    {
     "data": {
      "text/plain": [
       "'45°F'"
      ]
     },
     "execution_count": 14,
     "metadata": {},
     "output_type": "execute_result"
    }
   ],
   "source": [
    "query_web(\"今天北京天气？\")"
   ]
  },
  {
   "cell_type": "markdown",
   "id": "36ed7650",
   "metadata": {},
   "source": [
    "# 调用链"
   ]
  },
  {
   "cell_type": "code",
   "execution_count": 25,
   "id": "073cc55c",
   "metadata": {},
   "outputs": [],
   "source": [
    "from langchain import PromptTemplate, OpenAI, LLMChain\n",
    "from langchain.chat_models import AzureChatOpenAI\n",
    "from langchain.chains import SequentialChain\n",
    "# from langchain.chat_models import AzureChatOpenAI\n",
    "from langchain.chat_models import ChatOpenAI #直接访问OpenAI的GPT服务\n",
    "\n",
    "llm = ChatOpenAI(model_name=model, temperature=0,openai_api_base= openai_api_base) #直接访问OpenAI的GPT服务\n",
    "# llm = AzureChatOpenAI(deployment_name = deployment, model_name=model, temperature=0, max_tokens=200)\n",
    "\n",
    "summarizing_prompt_template = \"\"\"\n",
    "Summarize the following content into a sentence less than 20 words:\n",
    "---\n",
    "{content}\n",
    "\n",
    "\"\"\"\n",
    "summarizing_chain = LLMChain(\n",
    "    llm=llm,\n",
    "    prompt=PromptTemplate.from_template(summarizing_prompt_template),\n",
    "    output_key = \"summary\"\n",
    ")\n",
    "\n",
    "translating_prompt_template = \"\"\"\n",
    "translate \"{summary}\" into Chinese:\n",
    "\n",
    "\"\"\"\n",
    "\n",
    "translating_chain = LLMChain(\n",
    "    llm = llm,\n",
    "    prompt=PromptTemplate.from_template(translating_prompt_template),\n",
    "    output_key = \"translated\"\n",
    ")\n",
    "\n",
    "overall_chain = SequentialChain(\n",
    "    chains=[summarizing_chain, translating_chain],\n",
    "    input_variables=[\"content\"],\n",
    "    output_variables=[ \"summary\",\"translated\"],\n",
    "    verbose=True\n",
    ")\n"
   ]
  },
  {
   "cell_type": "code",
   "execution_count": 26,
   "id": "778d79d2",
   "metadata": {},
   "outputs": [
    {
     "name": "stdout",
     "output_type": "stream",
     "text": [
      "\n",
      "\n",
      "\u001b[1m> Entering new SequentialChain chain...\u001b[0m\n",
      "\n",
      "\u001b[1m> Finished chain.\u001b[0m\n",
      "summary:LangChain is a framework for creating language model-powered applications with data-aware and agentic capabilities, offering components and off-the-shelf chains for easy customization and implementation.\n",
      "中文:LangChain是一个框架，用于创建具备数据感知和自主能力的语言模型驱动的应用程序，提供组件和现成链条，以便进行简单的定制和实施。\n"
     ]
    }
   ],
   "source": [
    "res = overall_chain(\"\"\"\n",
    "LangChain is a framework for developing applications powered by language models. It enables applications that are:\n",
    "\n",
    "Data-aware: connect a language model to other sources of data\n",
    "Agentic: allow a language model to interact with its environment\n",
    "The main value props of LangChain are:\n",
    "\n",
    "Components: abstractions for working with language models, along with a collection of implementations for each abstraction. Components are modular and easy-to-use, whether you are using the rest of the LangChain framework or not\n",
    "Off-the-shelf chains: a structured assembly of components for accomplishing specific higher-level tasks\n",
    "Off-the-shelf chains make it easy to get started. For more complex applications and nuanced use-cases, components make it easy to customize existing chains or build new ones.\n",
    "\"\"\")\n",
    "\n",
    "print(\"summary:\"+res[\"summary\"])\n",
    "\n",
    "print(\"中文:\"+res[\"translated\"])"
   ]
  }
 ],
 "metadata": {
  "kernelspec": {
   "display_name": "Python 3 (ipykernel)",
   "language": "python",
   "name": "python3"
  },
  "language_info": {
   "codemirror_mode": {
    "name": "ipython",
    "version": 3
   },
   "file_extension": ".py",
   "mimetype": "text/x-python",
   "name": "python",
   "nbconvert_exporter": "python",
   "pygments_lexer": "ipython3",
   "version": "3.9.6"
  }
 },
 "nbformat": 4,
 "nbformat_minor": 5
}
